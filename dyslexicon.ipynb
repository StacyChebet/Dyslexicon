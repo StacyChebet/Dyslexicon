{
  "nbformat": 4,
  "nbformat_minor": 0,
  "metadata": {
    "colab": {
      "provenance": [],
      "authorship_tag": "ABX9TyP45I0SYMslzPqMrNvuIpU9",
      "include_colab_link": true
    },
    "kernelspec": {
      "name": "python3",
      "display_name": "Python 3"
    },
    "language_info": {
      "name": "python"
    }
  },
  "cells": [
    {
      "cell_type": "markdown",
      "metadata": {
        "id": "view-in-github",
        "colab_type": "text"
      },
      "source": [
        "<a href=\"https://colab.research.google.com/github/StacyChebet/Dyslexicon/blob/master/dyslexicon.ipynb\" target=\"_parent\"><img src=\"https://colab.research.google.com/assets/colab-badge.svg\" alt=\"Open In Colab\"/></a>"
      ]
    },
    {
      "cell_type": "markdown",
      "source": [
        "# **Dyslexicon CNN Model**"
      ],
      "metadata": {
        "id": "KpPT8P5mzlQ-"
      }
    },
    {
      "cell_type": "markdown",
      "source": [
        "**Dyslexicon is a CNN model that predicts the likelihood that a child is suffering from Dyslexia.**"
      ],
      "metadata": {
        "id": "fXgyMkZmz0xF"
      }
    },
    {
      "cell_type": "code",
      "source": [
        "! pip install -q kaggle"
      ],
      "metadata": {
        "id": "jvEh1izHtTT-"
      },
      "execution_count": 1,
      "outputs": []
    },
    {
      "cell_type": "code",
      "source": [
        "! mkdir ~/.kaggle"
      ],
      "metadata": {
        "id": "ZdEIag94tjCi"
      },
      "execution_count": 2,
      "outputs": []
    },
    {
      "cell_type": "code",
      "source": [
        "! cp kaggle.json ~/.kaggle/"
      ],
      "metadata": {
        "id": "t2gre1hJtrjP"
      },
      "execution_count": 3,
      "outputs": []
    },
    {
      "cell_type": "code",
      "source": [
        "! chmod 600 ~/.kaggle/kaggle.json"
      ],
      "metadata": {
        "id": "aEPuBZ8et2cn"
      },
      "execution_count": 5,
      "outputs": []
    },
    {
      "cell_type": "code",
      "source": [
        "! kaggle datasets download drizasazanitaisa/dyslexia-handwriting-dataset"
      ],
      "metadata": {
        "colab": {
          "base_uri": "https://localhost:8080/"
        },
        "id": "ToboD38KuB2a",
        "outputId": "8e6345bd-6536-4b75-daac-526cbbe894d0"
      },
      "execution_count": 6,
      "outputs": [
        {
          "output_type": "stream",
          "name": "stdout",
          "text": [
            "Downloading dyslexia-handwriting-dataset.zip to /content\n",
            " 93% 89.0M/96.2M [00:00<00:00, 166MB/s]\n",
            "100% 96.2M/96.2M [00:00<00:00, 149MB/s]\n"
          ]
        }
      ]
    },
    {
      "cell_type": "code",
      "source": [
        "! unzip dyslexia-handwriting-dataset.zip"
      ],
      "metadata": {
        "colab": {
          "base_uri": "https://localhost:8080/"
        },
        "id": "YJccIAtGuoBF",
        "outputId": "52bc6e27-7260-41cb-b2f0-a7f033cdbe76"
      },
      "execution_count": 8,
      "outputs": [
        {
          "output_type": "stream",
          "name": "stdout",
          "text": [
            "Archive:  dyslexia-handwriting-dataset.zip\n",
            "replace Dataset Dyslexia_Password WanAsy321.rar? [y]es, [n]o, [A]ll, [N]one, [r]ename: n\n"
          ]
        }
      ]
    },
    {
      "cell_type": "code",
      "execution_count": 16,
      "metadata": {
        "id": "QfdnJH9mzLfr"
      },
      "outputs": [],
      "source": [
        "#Importing modules\n",
        "import tensorflow as tf\n",
        "import tensorflow.keras as keras\n",
        "from tensorflow.keras import datasets, layers, models\n",
        "from tensorflow.keras.utils import load_img, img_to_array\n",
        "from keras.models import Sequential\n",
        "from keras.layers import Dense, Conv2D, MaxPooling2D, Flatten, Dropout, Dense\n",
        "from keras.preprocessing.image import ImageDataGenerator\n",
        "from sklearn.metrics import classification_report, confusion_matrix\n",
        "import matplotlib.pyplot as plt\n",
        "import numpy as np\n",
        "import os\n",
        "import json\n",
        "import PIL\n",
        "import PIL.Image\n",
        "import tensorflow_datasets as tfds\n",
        "import pathlib\n",
        "import cv2\n"
      ]
    },
    {
      "cell_type": "code",
      "source": [
        "print (tf.__version__)"
      ],
      "metadata": {
        "colab": {
          "base_uri": "https://localhost:8080/"
        },
        "id": "sG6LuSakSFSV",
        "outputId": "5f90871a-1f76-4b34-ebc7-a41e8b213715"
      },
      "execution_count": 10,
      "outputs": [
        {
          "output_type": "stream",
          "name": "stdout",
          "text": [
            "2.9.2\n"
          ]
        }
      ]
    },
    {
      "cell_type": "code",
      "source": [
        "!pip install unrar"
      ],
      "metadata": {
        "colab": {
          "base_uri": "https://localhost:8080/"
        },
        "id": "UxANhDpCtTF9",
        "outputId": "5663bd24-3014-4215-b9ee-62ed380a754b"
      },
      "execution_count": 11,
      "outputs": [
        {
          "output_type": "stream",
          "name": "stdout",
          "text": [
            "Looking in indexes: https://pypi.org/simple, https://us-python.pkg.dev/colab-wheels/public/simple/\n",
            "Collecting unrar\n",
            "  Downloading unrar-0.4-py3-none-any.whl (25 kB)\n",
            "Installing collected packages: unrar\n",
            "Successfully installed unrar-0.4\n"
          ]
        }
      ]
    },
    {
      "cell_type": "code",
      "source": [
        "!pip install tensorflow==2.9.2"
      ],
      "metadata": {
        "id": "Ovhp7wckdkmu"
      },
      "execution_count": null,
      "outputs": []
    },
    {
      "cell_type": "code",
      "source": [
        "! unrar x -Y /content/dyslexiaHandwriting.rar"
      ],
      "metadata": {
        "id": "39V5Y3hdm7GH"
      },
      "execution_count": null,
      "outputs": []
    },
    {
      "cell_type": "code",
      "source": [
        "#Initializing the CNN\n",
        "classifier = Sequential()"
      ],
      "metadata": {
        "id": "1eWPdiRaAj1N"
      },
      "execution_count": 17,
      "outputs": []
    },
    {
      "cell_type": "code",
      "source": [
        "#Step 1 - Convolution\n",
        "classifier.add(Conv2D(512, (3,3), input_shape = (32,32,3), activation = 'relu'))\n",
        "classifier.add(Conv2D(512, (3,3), activation = 'relu'))"
      ],
      "metadata": {
        "id": "DEZTI55XBY66"
      },
      "execution_count": 18,
      "outputs": []
    },
    {
      "cell_type": "code",
      "source": [
        "#Step 2 - Pooling\n",
        "classifier.add(MaxPooling2D(pool_size = (2,2)))"
      ],
      "metadata": {
        "id": "yrALSzERB2Z_"
      },
      "execution_count": 19,
      "outputs": []
    },
    {
      "cell_type": "code",
      "source": [
        "#Adding a second convolutional layer\n",
        "classifier.add(Conv2D(128, (3,3), activation = 'relu'))\n",
        "classifier.add(Conv2D(128, (3,3), activation = 'relu'))\n",
        "classifier.add(MaxPooling2D(pool_size = (2,2)))"
      ],
      "metadata": {
        "id": "A_8lmWnzCAIC"
      },
      "execution_count": 20,
      "outputs": []
    },
    {
      "cell_type": "code",
      "source": [
        "#Step 3 - Flattening\n",
        "classifier.add(Flatten())"
      ],
      "metadata": {
        "id": "d9wMH_wkCd01"
      },
      "execution_count": 21,
      "outputs": []
    },
    {
      "cell_type": "code",
      "source": [
        "#Step 4 - Full connection\n",
        "classifier.add(Dense(units = 128, activation = 'relu'))\n",
        "classifier.add(Dense(units = 64, activation = 'relu'))\n",
        "classifier.add(Dense(units = 3, activation = 'softmax'))\n"
      ],
      "metadata": {
        "id": "jbMFrJNMCm-N"
      },
      "execution_count": 22,
      "outputs": []
    },
    {
      "cell_type": "code",
      "source": [
        "#Compiling the CNN\n",
        "classifier.compile(optimizer = 'adam', loss = 'categorical_crossentropy', metrics = ['accuracy'])"
      ],
      "metadata": {
        "id": "0FYaDy5ZDAu1"
      },
      "execution_count": 23,
      "outputs": []
    },
    {
      "cell_type": "code",
      "source": [
        "#Getting the model's summary\n",
        "classifier.summary()"
      ],
      "metadata": {
        "id": "ZhxfeaxMFwq3"
      },
      "execution_count": null,
      "outputs": []
    },
    {
      "cell_type": "code",
      "source": [
        "#Part 2 - Fitting the CNN to the images\n",
        "from keras.preprocessing.image import ImageDataGenerator\n",
        "\n",
        "train_data_gen = ImageDataGenerator(rescale = 1./255,\n",
        "                                    shear_range = 0.2,\n",
        "                                    zoom_range = 0.2,\n",
        "                                    horizontal_flip = True)\n",
        "\n",
        "test_data_gen = ImageDataGenerator(rescale = 1./255)\n",
        "\n",
        "training_set = train_data_gen.flow_from_directory(r'/content/Gambo/Train',\n",
        "                                                  target_size = (32,32),\n",
        "                                                  batch_size = 32,\n",
        "                                                  class_mode = 'categorical')"
      ],
      "metadata": {
        "colab": {
          "base_uri": "https://localhost:8080/"
        },
        "id": "ZMLibXQ-DT91",
        "outputId": "6af92b29-cd27-44a5-e2a1-126930852ad8"
      },
      "execution_count": 25,
      "outputs": [
        {
          "output_type": "stream",
          "name": "stdout",
          "text": [
            "Found 151649 images belonging to 3 classes.\n"
          ]
        }
      ]
    },
    {
      "cell_type": "code",
      "source": [
        "test_set = test_data_gen.flow_from_directory(r'/content/Gambo/Test',\n",
        "                                             target_size = (32,32),\n",
        "                                             batch_size = 32,\n",
        "                                             class_mode = 'categorical')"
      ],
      "metadata": {
        "colab": {
          "base_uri": "https://localhost:8080/"
        },
        "id": "5IzBGUopItiU",
        "outputId": "c46ee3e1-1667-45f5-8cf8-3b0914cb06a7"
      },
      "execution_count": 26,
      "outputs": [
        {
          "output_type": "stream",
          "name": "stdout",
          "text": [
            "Found 56723 images belonging to 3 classes.\n"
          ]
        }
      ]
    },
    {
      "cell_type": "code",
      "source": [
        "classifier.fit(training_set,\n",
        "               steps_per_epoch = 2000,\n",
        "               epochs = 20,\n",
        "               validation_data = test_set,\n",
        "               validation_steps = 2000)"
      ],
      "metadata": {
        "colab": {
          "base_uri": "https://localhost:8080/"
        },
        "id": "lFhS6XbVKMRK",
        "outputId": "a99d7f72-1611-4f4a-d18f-198910a131ef"
      },
      "execution_count": null,
      "outputs": [
        {
          "output_type": "stream",
          "name": "stdout",
          "text": [
            "Epoch 1/20\n",
            " 924/2000 [============>.................] - ETA: 1:56:09 - loss: 0.6534 - accuracy: 0.6994"
          ]
        }
      ]
    },
    {
      "cell_type": "code",
      "source": [
        "#Saving the model\n",
        "classifier.save('trained_model')"
      ],
      "metadata": {
        "id": "g1eCUIAvLhOl"
      },
      "execution_count": null,
      "outputs": []
    },
    {
      "cell_type": "code",
      "source": [
        "#Part 3 - Making new predictions\n"
      ],
      "metadata": {
        "id": "EutLm_LYLtB1"
      },
      "execution_count": null,
      "outputs": []
    }
  ]
}